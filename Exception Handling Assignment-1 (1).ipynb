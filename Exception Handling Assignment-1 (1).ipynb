{
 "cells": [
  {
   "cell_type": "markdown",
   "id": "2eccccaf-3b6e-474a-bd16-6f6da4b3cdcb",
   "metadata": {},
   "source": [
    "### Q1. What is an Exception in python? write the difference between Exceptions and Syntax errors?"
   ]
  },
  {
   "cell_type": "markdown",
   "id": "93cedb6e-3bf2-4efc-a66f-51bdda65484d",
   "metadata": {},
   "source": [
    "An Exception is an error that happens during the execution of a program. Whenever there is an error, Python generates an exception that could be handled. It basically prevents the program from getting crashed"
   ]
  },
  {
   "cell_type": "markdown",
   "id": "59ffc00d-38ed-452f-8811-4a6a5c2433d5",
   "metadata": {},
   "source": [
    "### Exceptions \n",
    "Even if a statement or expression is syntactically correct, the error that occurs at the runtime is known as a Logical error or Exception. In other words, Errors detected during execution are called exceptions."
   ]
  },
  {
   "cell_type": "markdown",
   "id": "83c71bea-3af0-4347-b4c3-87e624fac702",
   "metadata": {},
   "source": [
    "### Syntax Errors\n",
    "A syntax error is one of the most basic types of error in programming. Whenever we do not write the proper syntax of the python programming language (or any other language) then the python interpreter or parser throws an error known as a syntax error. The syntax error simply means that the python parser is unable to understand a line of code."
   ]
  },
  {
   "cell_type": "markdown",
   "id": "f9149dad-f9da-40ed-b4fc-cce5accc7609",
   "metadata": {},
   "source": [
    "### Q2.What happens when an exception is not handled? Explain with an example."
   ]
  },
  {
   "cell_type": "markdown",
   "id": "afce2f10-9e19-492b-bf57-1a03de2564d7",
   "metadata": {},
   "source": [
    "When an exception is not handled in Python, it results in an unhandled exception, and the program's execution is terminated with an error message. This means that the default behavior of Python is to stop the program's execution and print a traceback that shows the exception's type, message, and the stack trace, which indicates the sequence of function calls leading to the unhandled exception.\n",
    "\n",
    "Here's an example to illustrate what happens when an exception is not handled:"
   ]
  },
  {
   "cell_type": "code",
   "execution_count": 1,
   "id": "bd6f98f8-65c0-4fd2-b448-f6402f99cd42",
   "metadata": {},
   "outputs": [
    {
     "ename": "ZeroDivisionError",
     "evalue": "division by zero",
     "output_type": "error",
     "traceback": [
      "\u001b[0;31m---------------------------------------------------------------------------\u001b[0m",
      "\u001b[0;31mZeroDivisionError\u001b[0m                         Traceback (most recent call last)",
      "Cell \u001b[0;32mIn[1], line 5\u001b[0m\n\u001b[1;32m      2\u001b[0m     \u001b[38;5;28;01mreturn\u001b[39;00m a \u001b[38;5;241m/\u001b[39m b\n\u001b[1;32m      4\u001b[0m \u001b[38;5;28;01mtry\u001b[39;00m:\n\u001b[0;32m----> 5\u001b[0m     result \u001b[38;5;241m=\u001b[39m \u001b[43mdivide_numbers\u001b[49m\u001b[43m(\u001b[49m\u001b[38;5;241;43m10\u001b[39;49m\u001b[43m,\u001b[49m\u001b[43m \u001b[49m\u001b[38;5;241;43m0\u001b[39;49m\u001b[43m)\u001b[49m  \u001b[38;5;66;03m# Dividing a number by zero\u001b[39;00m\n\u001b[1;32m      6\u001b[0m     \u001b[38;5;28mprint\u001b[39m(result)\n\u001b[1;32m      7\u001b[0m \u001b[38;5;28;01mexcept\u001b[39;00m \u001b[38;5;167;01mValueError\u001b[39;00m \u001b[38;5;28;01mas\u001b[39;00m e:\n",
      "Cell \u001b[0;32mIn[1], line 2\u001b[0m, in \u001b[0;36mdivide_numbers\u001b[0;34m(a, b)\u001b[0m\n\u001b[1;32m      1\u001b[0m \u001b[38;5;28;01mdef\u001b[39;00m \u001b[38;5;21mdivide_numbers\u001b[39m(a, b):\n\u001b[0;32m----> 2\u001b[0m     \u001b[38;5;28;01mreturn\u001b[39;00m \u001b[43ma\u001b[49m\u001b[43m \u001b[49m\u001b[38;5;241;43m/\u001b[39;49m\u001b[43m \u001b[49m\u001b[43mb\u001b[49m\n",
      "\u001b[0;31mZeroDivisionError\u001b[0m: division by zero"
     ]
    }
   ],
   "source": [
    "def divide_numbers(a, b):\n",
    "    return a / b\n",
    "\n",
    "try:\n",
    "    result = divide_numbers(10, 0)  # Dividing a number by zero\n",
    "    print(result)\n",
    "except ValueError as e:\n",
    "    print(f\"ValueError: {e}\")\n"
   ]
  },
  {
   "cell_type": "markdown",
   "id": "cfafe733-8146-4dea-a1a1-8f562ee348b3",
   "metadata": {},
   "source": [
    "In this example, the divide_numbers function attempts to divide a number by another number. However, in the try block, we are trying to divide 10 by 0, which raises a ZeroDivisionError.\n",
    "\n",
    "Since we only have an except block to handle a ValueError, it does not match the raised ZeroDivisionError, and the exception remains unhandled. When an exception is unhandled, the program will terminate, and a traceback will be displayed:"
   ]
  },
  {
   "cell_type": "markdown",
   "id": "02dd9d8d-638a-4778-81cc-044396d24c30",
   "metadata": {},
   "source": [
    "### Q3.Which python statements are used to catch and handle exceptions? Explain with an example."
   ]
  },
  {
   "cell_type": "markdown",
   "id": "8c6249ea-2b36-4dd5-ba04-872ad91ee32a",
   "metadata": {},
   "source": [
    "Try and except statements are used to catch and handle exceptions in Python. Statements that can raise exceptions are kept inside the try clause and the statements that handle the exception are written inside except clause."
   ]
  },
  {
   "cell_type": "code",
   "execution_count": 2,
   "id": "c9ee8d81-02a8-4f37-84f9-71ece1e4091b",
   "metadata": {},
   "outputs": [
    {
     "name": "stdout",
     "output_type": "stream",
     "text": [
      "You cannot divide any numbers by zero\n",
      "Result is: 2.0\n"
     ]
    }
   ],
   "source": [
    "def division(a,b):\n",
    "    try:\n",
    "        result = a/b\n",
    "    except ZeroDivisionError:\n",
    "        print(\"You cannot divide any numbers by zero\")\n",
    "    else:\n",
    "        print(\"Result is:\", result)\n",
    "        \n",
    "division(5,0)\n",
    "\n",
    "division(4,2)"
   ]
  },
  {
   "cell_type": "code",
   "execution_count": 3,
   "id": "78eaf659-2f3a-4631-bcf0-ba66eb549b1a",
   "metadata": {},
   "outputs": [],
   "source": [
    "def str1(a,b):\n",
    "    try:\n",
    "        result = a + b\n",
    "    except Exception as e:\n",
    "        print(\"Integer can not add to string:\", e)\n",
    "    else:\n",
    "        print(\"successfully add:\", result)\n",
    "    finally:\n",
    "        print(\"finally clause is always execute\")"
   ]
  },
  {
   "cell_type": "markdown",
   "id": "6fa9a886-141c-4256-8844-dbf6723f8733",
   "metadata": {},
   "source": [
    "### Q4. Exceplain with an Example:\n",
    "### a. try and else:\n",
    "### b. finally:\n",
    "### c. raise:"
   ]
  },
  {
   "cell_type": "markdown",
   "id": "6d498f13-8c0a-475c-94dc-e58689e53cbb",
   "metadata": {},
   "source": [
    "##### a. try and else:\n",
    "\n",
    "The try and else blocks are used together to handle exceptions in Python. The try block is used to enclose the code that may raise an exception, and the else block is used to define the code that should be executed if no exception occurs in the try block.\n",
    "\n",
    "##### Example:"
   ]
  },
  {
   "cell_type": "code",
   "execution_count": 4,
   "id": "8526c22b-3da6-4d37-b005-61fcf4356d60",
   "metadata": {},
   "outputs": [
    {
     "name": "stdout",
     "output_type": "stream",
     "text": [
      "The result of the division is: 5.0\n",
      "Error: Cannot divide by zero.\n"
     ]
    }
   ],
   "source": [
    "def divide_numbers(a, b):\n",
    "    try:\n",
    "        result = a / b\n",
    "    except ZeroDivisionError:\n",
    "        print(\"Error: Cannot divide by zero.\")\n",
    "    else:\n",
    "        print(f\"The result of the division is: {result}\")\n",
    "\n",
    "divide_numbers(10, 2)   # The division is successful, so the else block will be executed.\n",
    "divide_numbers(10, 0)   # This will raise a ZeroDivisionError, and the except block will be executed.\n"
   ]
  },
  {
   "cell_type": "markdown",
   "id": "bd34387f-350c-4cf4-92f0-d40252e44996",
   "metadata": {},
   "source": [
    "In this example, the divide_numbers function attempts to divide a by b. Inside the try block, the division is performed. If the division is successful (i.e., no exception is raised), the else block will be executed, and the result of the division will be printed. If a ZeroDivisionError occurs, the except block will be executed, and an error message will be displayed instead."
   ]
  },
  {
   "cell_type": "markdown",
   "id": "fadf9c80-aee5-48f3-a12d-6976e2c5fbde",
   "metadata": {},
   "source": [
    "##### b. finally:-"
   ]
  },
  {
   "cell_type": "markdown",
   "id": "d3b3369c-5eab-4ed7-b1a3-576114889000",
   "metadata": {},
   "source": [
    "The finally block is used to define a set of statements that will be executed regardless of whether an exception occurred or not. This block is often used to perform cleanup actions or release resources that need to be closed, no matter what happens in the preceding try block.\n",
    "\n",
    "##### Example:"
   ]
  },
  {
   "cell_type": "code",
   "execution_count": 5,
   "id": "1579b155-755d-4859-85be-cfe659df2299",
   "metadata": {},
   "outputs": [
    {
     "name": "stdout",
     "output_type": "stream",
     "text": [
      "The result of the division is: 5.0\n",
      "This will always be executed.\n",
      "Error: Cannot divide by zero.\n",
      "This will always be executed.\n"
     ]
    }
   ],
   "source": [
    "def divide_numbers(a, b):\n",
    "    try:\n",
    "        result = a / b\n",
    "    except ZeroDivisionError:\n",
    "        print(\"Error: Cannot divide by zero.\")\n",
    "    else:\n",
    "        print(f\"The result of the division is: {result}\")\n",
    "    finally:\n",
    "        print(\"This will always be executed.\")\n",
    "\n",
    "divide_numbers(10, 2)   # The division is successful, so the else block will be executed, and finally will be executed.\n",
    "divide_numbers(10, 0) # This will raise a ZeroDivisionError, and the except block will be executed, and finally will be executed.\n"
   ]
  },
  {
   "cell_type": "markdown",
   "id": "218118f3-3610-45ca-8ae9-c2cb9785c191",
   "metadata": {},
   "source": [
    "In this example, the finally block is used to print a message that will always be executed, regardless of whether an exception occurred or not."
   ]
  },
  {
   "cell_type": "markdown",
   "id": "8613e6c4-21d7-4195-a165-85c0fcb84f13",
   "metadata": {},
   "source": [
    "##### c. raise:-"
   ]
  },
  {
   "cell_type": "markdown",
   "id": "a75ff51c-0f5a-4152-8cc1-cb335a16199e",
   "metadata": {},
   "source": [
    "The raise statement is used to manually raise an exception in Python. It allows you to specify when and what exception should be raised. You can use it to handle specific conditions that require custom exception handling.\n",
    "\n",
    "##### Example:"
   ]
  },
  {
   "cell_type": "code",
   "execution_count": 6,
   "id": "6b588141-ea28-4f48-8d27-995e3a52621a",
   "metadata": {},
   "outputs": [
    {
     "name": "stdout",
     "output_type": "stream",
     "text": [
      "You are eligible.\n",
      "ValueError: Age cannot be negative.\n"
     ]
    }
   ],
   "source": [
    "def check_age(age):\n",
    "    if age < 0:\n",
    "        raise ValueError(\"Age cannot be negative.\")\n",
    "    elif age < 18:\n",
    "        raise ValueError(\"You must be at least 18 years old.\")\n",
    "    else:\n",
    "        print(\"You are eligible.\")\n",
    "\n",
    "try:\n",
    "    check_age(25)\n",
    "    check_age(-5)\n",
    "except ValueError as e:\n",
    "    print(f\"ValueError: {e}\")\n"
   ]
  },
  {
   "cell_type": "markdown",
   "id": "42a6037f-5c16-4316-acab-659c50b8d846",
   "metadata": {},
   "source": [
    "In this example, the check_age function checks if the given age is valid. If the age is negative or less than 18, a ValueError is raised with a specific error message. When calling the function with check_age(25), the age is valid, so the function prints \"You are eligible.\" When calling the function with check_age(-5), the age is negative, so a ValueError is raised and caught in the except block, displaying the appropriate error message."
   ]
  },
  {
   "cell_type": "markdown",
   "id": "84dc9b27-c576-4887-b47c-5bf8bb20edb1",
   "metadata": {},
   "source": [
    "### Q5.What are the custom Exception in python? why do we need custom Exception? Explain with an Example."
   ]
  },
  {
   "cell_type": "markdown",
   "id": "156de9c5-b30c-4feb-a68e-00e83b1358fc",
   "metadata": {},
   "source": [
    "A Python custom exception is a user-defined exception that is created by the programmer to handle specific error scenarios in a program.\n",
    "\n",
    "Python allows you to create your custom exception by subclassing the built-in Exception class or any of its subclasses."
   ]
  },
  {
   "cell_type": "markdown",
   "id": "f957aa44-8ac8-4fe4-b3c8-dc7fb65f7efb",
   "metadata": {},
   "source": [
    "### Why Use Python’s Custom Exception:\n",
    "Python Custom exception is a valuable tool for handling errors in a way that aligns with your application’s specific requirements.\n",
    "\n",
    "Here’s why you should consider using a Python custom exception:\n",
    "\n",
    "#### Readability and Maintainability:\n",
    "A Custom exception with descriptive names make your code more readable and easier to understand, promoting better collaboration and troubleshooting.\n",
    "\n",
    "#### Tailored Error Handling: \n",
    "Custom exceptions allow you to handle errors in a way that suits your application’s logic and requirements, providing more precise error management.\n",
    "\n",
    "#### Enforced Design Patterns:\n",
    "Custom exceptions encourage consistent error-handling practices and can be shared across modules or projects, promoting code reusability.\n",
    "#### Enhanced Code Documentation:\n",
    "Clear exception names act as self-documenting elements, providing insights into potential error scenarios and facilitating code understanding.\n",
    "#### Precise Error Reporting: \n",
    "Custom exceptions enable you to generate detailed error messages, providing valuable information to users or administrators and aiding in bug fixing.\n",
    "\n",
    "By leveraging the power of custom exceptions in Python, you can improve code quality, maintainability, and user experience in your Python projects. Now, let’s dive deeper into defining, raising, and handling custom exceptions effectively"
   ]
  },
  {
   "cell_type": "markdown",
   "id": "cbee8fe3-6468-4377-a135-bdf778dddca0",
   "metadata": {},
   "source": [
    "### Example:"
   ]
  },
  {
   "cell_type": "code",
   "execution_count": 8,
   "id": "fcd4f7cb-30d4-401a-afbc-c80d2a22b24d",
   "metadata": {},
   "outputs": [
    {
     "name": "stdin",
     "output_type": "stream",
     "text": [
      "Enter your name Shahrukh\n",
      "Enter your id 23456\n",
      "Enter your age 23\n"
     ]
    },
    {
     "name": "stdout",
     "output_type": "stream",
     "text": [
      "Thanks for Voting\n"
     ]
    }
   ],
   "source": [
    "class VotingPerson(Exception):\n",
    "    def __init__(self, name, id, age):\n",
    "        self.name = name\n",
    "        self.id = id\n",
    "        self.age = age\n",
    "        \n",
    "    try:\n",
    "        name = input(\"Enter your name\")\n",
    "        id = int(input(\"Enter your id\"))\n",
    "        age = int(input(\"Enter your age\"))\n",
    "        \n",
    "        if age<18 :\n",
    "            raise VotingPerson\n",
    "        vote1 = VotingPerson(name , id ,age)\n",
    "        print(\"Thanks for Voting\")\n",
    "    except Exception as e:\n",
    "        \n",
    "        print(\"Sorry you are not eligible for voting\",e)"
   ]
  },
  {
   "cell_type": "code",
   "execution_count": 9,
   "id": "8eb2445a-629f-4639-a7fd-457bd428db5c",
   "metadata": {},
   "outputs": [
    {
     "name": "stdin",
     "output_type": "stream",
     "text": [
      "Enter your name Aman\n",
      "Enter your id 25346\n",
      "Enter your age 17\n"
     ]
    },
    {
     "name": "stdout",
     "output_type": "stream",
     "text": [
      "Sorry you are not eligible for voting VotingPerson.__init__() missing 3 required positional arguments: 'name', 'id', and 'age'\n"
     ]
    }
   ],
   "source": [
    "class VotingPerson(Exception):\n",
    "    def __init__(self, name, id, age):\n",
    "        self.name = name\n",
    "        self.id = id\n",
    "        self.age = age\n",
    "        \n",
    "    try:\n",
    "        name = input(\"Enter your name\")\n",
    "        id = int(input(\"Enter your id\"))\n",
    "        age = int(input(\"Enter your age\"))\n",
    "        \n",
    "        if age<18 :\n",
    "            raise VotingPerson\n",
    "        vote1 = VotingPerson(name , id ,age)\n",
    "        print(\"Thanks for Voting\")\n",
    "    except Exception as e:\n",
    "        \n",
    "        print(\"Sorry you are not eligible for voting\",e)"
   ]
  },
  {
   "cell_type": "markdown",
   "id": "a9297021-e457-4bb4-bddc-2708a884eb07",
   "metadata": {},
   "source": [
    "### Q6.Create a custom exception class. Use this class to handle an Exception."
   ]
  },
  {
   "cell_type": "code",
   "execution_count": 12,
   "id": "a15da60e-c2fe-4b36-b02b-036ebab90dc4",
   "metadata": {},
   "outputs": [
    {
     "name": "stdin",
     "output_type": "stream",
     "text": [
      "Enter the first number:  12\n",
      "Enter the second number:  5\n"
     ]
    },
    {
     "name": "stdout",
     "output_type": "stream",
     "text": [
      "The result of the division is: 2.4\n"
     ]
    }
   ],
   "source": [
    "class InvalidInputError(Exception):\n",
    "    \"\"\"Custom exception for invalid input\"\"\"\n",
    "\n",
    "    def __init__(self, message):\n",
    "        self.message = message\n",
    "        super().__init__(message)\n",
    "\n",
    "\n",
    "def divide_numbers(a, b):\n",
    "    if b == 0:\n",
    "        raise InvalidInputError(\"Cannot divide by zero.\")\n",
    "    return a / b\n",
    "\n",
    "\n",
    "try:\n",
    "    num1 = float(input(\"Enter the first number: \"))\n",
    "    num2 = float(input(\"Enter the second number: \"))\n",
    "\n",
    "    result = divide_numbers(num1, num2)\n",
    "    print(f\"The result of the division is: {result}\")\n",
    "\n",
    "except ValueError as e:\n",
    "    print(f\"ValueError: {e}\")\n",
    "except InvalidInputError as e:\n",
    "    print(f\"InvalidInputError: {e}\")\n"
   ]
  },
  {
   "cell_type": "markdown",
   "id": "bf81950e-bb32-462e-9cae-5fb71c63e22b",
   "metadata": {},
   "source": [
    "# The end"
   ]
  }
 ],
 "metadata": {
  "kernelspec": {
   "display_name": "Python 3 (ipykernel)",
   "language": "python",
   "name": "python3"
  },
  "language_info": {
   "codemirror_mode": {
    "name": "ipython",
    "version": 3
   },
   "file_extension": ".py",
   "mimetype": "text/x-python",
   "name": "python",
   "nbconvert_exporter": "python",
   "pygments_lexer": "ipython3",
   "version": "3.10.8"
  }
 },
 "nbformat": 4,
 "nbformat_minor": 5
}
